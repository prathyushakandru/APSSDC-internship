{
 "cells": [
  {
   "cell_type": "code",
   "execution_count": 2,
   "metadata": {},
   "outputs": [
    {
     "name": "stdout",
     "output_type": "stream",
     "text": [
      "Enter your age: 19\n",
      "You are eligible to vote!\n"
     ]
    }
   ],
   "source": [
    "age = int(input(\"Enter your age: \"))\n",
    "if age>=18:\n",
    "    print(\"You are eligible to vote!\")\n",
    "else:\n",
    "    print(\"You are not eligible to vote!\")"
   ]
  },
  {
   "cell_type": "code",
   "execution_count": 3,
   "metadata": {},
   "outputs": [
    {
     "name": "stdout",
     "output_type": "stream",
     "text": [
      "Enter a number: 8\n",
      "Positive number\n"
     ]
    }
   ],
   "source": [
    "#Check the given number is positive or negative\n",
    "n = float(input(\"Enter a number: \"))\n",
    "if n > 0:\n",
    "   print(\"Positive number\")\n",
    "elif n == 0:\n",
    "   print(\"Zero\")\n",
    "else:\n",
    "   print(\"Negative number\")"
   ]
  },
  {
   "cell_type": "code",
   "execution_count": 4,
   "metadata": {},
   "outputs": [
    {
     "name": "stdout",
     "output_type": "stream",
     "text": [
      "Please Enter a Number : 8\n",
      "This Number is Even\n",
      "The number is divisible by 4\n"
     ]
    }
   ],
   "source": [
    "#check the given number is even or odd if it's even check which is divisible by 4 or not\n",
    "num=int(input(\"Please Enter a Number : \"));  \n",
    "if(num%2==0):  \n",
    "    print(\"This Number is Even\")  \n",
    "else:  \n",
    "    print(\"This Number is Odd\") \n",
    "if(num%4==0):\n",
    "    print(\"The number is divisible by 4\")\n",
    "else:\n",
    "    print(\"The number is not divisible by 4\")"
   ]
  },
  {
   "cell_type": "code",
   "execution_count": 5,
   "metadata": {},
   "outputs": [
    {
     "name": "stdout",
     "output_type": "stream",
     "text": [
      "enter your marks out of 500: 450\n",
      "Total Marks = 450.00\n",
      "Marks Percentage = 90.00\n",
      "Distinction\n"
     ]
    }
   ],
   "source": [
    "#write a program to print student grade based on persentage like Distinction,pass or fail\n",
    "\n",
    "total = int(input('enter your marks out of 500: '))\n",
    "percentage = (total / 500) * 100\n",
    "\n",
    "print(\"Total Marks = %.2f\"  %total)\n",
    "print(\"Marks Percentage = %.2f\"  %percentage)\n",
    "\n",
    "if(percentage >= 80):\n",
    "    print(\"Distinction\")\n",
    "elif(percentage >= 40):\n",
    "    print(\"Pass\")\n",
    "else:\n",
    "    print(\"Fail\")"
   ]
  },
  {
   "cell_type": "code",
   "execution_count": 6,
   "metadata": {},
   "outputs": [
    {
     "name": "stdout",
     "output_type": "stream",
     "text": [
      "Enter year to check:2021\n",
      "The year isn't a leap year!\n"
     ]
    }
   ],
   "source": [
    "#Check the given year is Leap or not\n",
    "Year=int(input(\"Enter year to check:\"))\n",
    "if(Year%4==0 and Year%100!=0 or Year%400==0):\n",
    "    print(\"The year is a leap year!\")\n",
    "else:\n",
    "    print(\"The year isn't a leap year!\")"
   ]
  },
  {
   "cell_type": "markdown",
   "metadata": {},
   "source": []
  }
 ],
 "metadata": {
  "kernelspec": {
   "display_name": "Python 3",
   "language": "python",
   "name": "python3"
  },
  "language_info": {
   "codemirror_mode": {
    "name": "ipython",
    "version": 3
   },
   "file_extension": ".py",
   "mimetype": "text/x-python",
   "name": "python",
   "nbconvert_exporter": "python",
   "pygments_lexer": "ipython3",
   "version": "3.7.4"
  }
 },
 "nbformat": 4,
 "nbformat_minor": 2
}

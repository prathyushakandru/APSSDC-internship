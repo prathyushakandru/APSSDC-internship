{
 "cells": [
  {
   "cell_type": "code",
   "execution_count": 1,
   "metadata": {},
   "outputs": [
    {
     "name": "stdout",
     "output_type": "stream",
     "text": [
      "Leap years between 1800, 2300 and divisible by 5 are \n",
      "[1820, 1840, 1860, 1880, 1920, 1940, 1960, 1980, 2000, 2020]\n"
     ]
    }
   ],
   "source": [
    "#Take a list of years between 1800 to 2030 and also display all the leap years which is divisible by 5\n",
    "x=1800\n",
    "y=2030\n",
    "print(\"Leap years between 1800, 2300 and divisible by 5 are \")\n",
    "print([z for z in range(x, y + 1) if (z%4 == 0 and z%100 != 0 and z%5==0) or (z%400 == 0)])"
   ]
  },
  {
   "cell_type": "code",
   "execution_count": null,
   "metadata": {},
   "outputs": [],
   "source": []
  }
 ],
 "metadata": {
  "kernelspec": {
   "display_name": "Python 3",
   "language": "python",
   "name": "python3"
  },
  "language_info": {
   "codemirror_mode": {
    "name": "ipython",
    "version": 3
   },
   "file_extension": ".py",
   "mimetype": "text/x-python",
   "name": "python",
   "nbconvert_exporter": "python",
   "pygments_lexer": "ipython3",
   "version": "3.7.4"
  }
 },
 "nbformat": 4,
 "nbformat_minor": 2
}

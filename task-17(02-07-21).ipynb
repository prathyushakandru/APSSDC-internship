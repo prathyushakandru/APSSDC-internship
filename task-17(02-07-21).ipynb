{
 "cells": [
  {
   "cell_type": "markdown",
   "metadata": {},
   "source": [
    "* apply polynomial regression by taking two input features/predictors\n",
    "* headbrain.csv\n"
   ]
  },
  {
   "cell_type": "code",
   "execution_count": 2,
   "metadata": {},
   "outputs": [],
   "source": [
    "import numpy as np\n",
    "import pandas as pd\n",
    "import matplotlib.pyplot as plt\n",
    "import seaborn as sns\n"
   ]
  },
  {
   "cell_type": "code",
   "execution_count": 3,
   "metadata": {},
   "outputs": [
    {
     "data": {
      "text/html": [
       "<div>\n",
       "<style scoped>\n",
       "    .dataframe tbody tr th:only-of-type {\n",
       "        vertical-align: middle;\n",
       "    }\n",
       "\n",
       "    .dataframe tbody tr th {\n",
       "        vertical-align: top;\n",
       "    }\n",
       "\n",
       "    .dataframe thead th {\n",
       "        text-align: right;\n",
       "    }\n",
       "</style>\n",
       "<table border=\"1\" class=\"dataframe\">\n",
       "  <thead>\n",
       "    <tr style=\"text-align: right;\">\n",
       "      <th></th>\n",
       "      <th>Gender</th>\n",
       "      <th>Age Range</th>\n",
       "      <th>Head Size(cm^3)</th>\n",
       "      <th>Brain Weight(grams)</th>\n",
       "    </tr>\n",
       "  </thead>\n",
       "  <tbody>\n",
       "    <tr>\n",
       "      <td>0</td>\n",
       "      <td>1</td>\n",
       "      <td>1</td>\n",
       "      <td>4512</td>\n",
       "      <td>1530</td>\n",
       "    </tr>\n",
       "    <tr>\n",
       "      <td>1</td>\n",
       "      <td>1</td>\n",
       "      <td>1</td>\n",
       "      <td>3738</td>\n",
       "      <td>1297</td>\n",
       "    </tr>\n",
       "    <tr>\n",
       "      <td>2</td>\n",
       "      <td>1</td>\n",
       "      <td>1</td>\n",
       "      <td>4261</td>\n",
       "      <td>1335</td>\n",
       "    </tr>\n",
       "    <tr>\n",
       "      <td>3</td>\n",
       "      <td>1</td>\n",
       "      <td>1</td>\n",
       "      <td>3777</td>\n",
       "      <td>1282</td>\n",
       "    </tr>\n",
       "    <tr>\n",
       "      <td>4</td>\n",
       "      <td>1</td>\n",
       "      <td>1</td>\n",
       "      <td>4177</td>\n",
       "      <td>1590</td>\n",
       "    </tr>\n",
       "  </tbody>\n",
       "</table>\n",
       "</div>"
      ],
      "text/plain": [
       "   Gender  Age Range  Head Size(cm^3)  Brain Weight(grams)\n",
       "0       1          1             4512                 1530\n",
       "1       1          1             3738                 1297\n",
       "2       1          1             4261                 1335\n",
       "3       1          1             3777                 1282\n",
       "4       1          1             4177                 1590"
      ]
     },
     "execution_count": 3,
     "metadata": {},
     "output_type": "execute_result"
    }
   ],
   "source": [
    "data = pd.read_csv(\"headbrain.csv\")\n",
    "data.head()\n"
   ]
  },
  {
   "cell_type": "code",
   "execution_count": 4,
   "metadata": {},
   "outputs": [
    {
     "data": {
      "text/plain": [
       "Index(['Gender', 'Age Range', 'Head Size(cm^3)', 'Brain Weight(grams)'], dtype='object')"
      ]
     },
     "execution_count": 4,
     "metadata": {},
     "output_type": "execute_result"
    }
   ],
   "source": [
    "data.columns\n"
   ]
  },
  {
   "cell_type": "code",
   "execution_count": 5,
   "metadata": {},
   "outputs": [
    {
     "data": {
      "text/plain": [
       "(237, 4)"
      ]
     },
     "execution_count": 5,
     "metadata": {},
     "output_type": "execute_result"
    }
   ],
   "source": [
    "data.shape\n"
   ]
  },
  {
   "cell_type": "code",
   "execution_count": 6,
   "metadata": {},
   "outputs": [
    {
     "data": {
      "image/png": "[encoded data removed]",
      "text/plain": [
       "<Figure size 432x288 with 1 Axes>"
      ]
     },
     "metadata": {
      "needs_background": "light"
     },
     "output_type": "display_data"
    }
   ],
   "source": [
    "plt.scatter(data[\"Head Size(cm^3)\"],data[\"Brain Weight(grams)\"])\n",
    "plt.show()"
   ]
  },
  {
   "cell_type": "code",
   "execution_count": 7,
   "metadata": {},
   "outputs": [],
   "source": [
    "x = data[[\"Head Size(cm^3)\"]]\n",
    "y = data[\"Brain Weight(grams)\"]\n"
   ]
  },
  {
   "cell_type": "code",
   "execution_count": 8,
   "metadata": {},
   "outputs": [],
   "source": [
    "\n",
    "from sklearn.preprocessing import PolynomialFeatures\n"
   ]
  },
  {
   "cell_type": "code",
   "execution_count": 9,
   "metadata": {},
   "outputs": [],
   "source": [
    "\n",
    "poly = PolynomialFeatures(degree = 3)\n",
    "x_poly = poly.fit_transform(x)\n"
   ]
  },
  {
   "cell_type": "code",
   "execution_count": 10,
   "metadata": {},
   "outputs": [],
   "source": [
    "from sklearn.linear_model import LinearRegression\n"
   ]
  },
  {
   "cell_type": "code",
   "execution_count": 11,
   "metadata": {},
   "outputs": [
    {
     "data": {
      "text/plain": [
       "LinearRegression(copy_X=True, fit_intercept=True, n_jobs=None, normalize=False)"
      ]
     },
     "execution_count": 11,
     "metadata": {},
     "output_type": "execute_result"
    }
   ],
   "source": [
    "model = LinearRegression()\n",
    "model.fit(x_poly,y)\n"
   ]
  },
  {
   "cell_type": "code",
   "execution_count": 12,
   "metadata": {},
   "outputs": [
    {
     "data": {
      "text/plain": [
       "array([1506.69192887, 1313.27584502, 1439.53126348, 1322.6935119 ,\n",
       "       1418.57721582, 1275.40778678, 1324.61701619, 1268.77977598,\n",
       "       1282.47423808, 1371.54440821, 1238.30136756, 1374.16268553,\n",
       "       1289.22374179, 1426.244466  , 1335.87159664, 1346.35485044,\n",
       "       1252.68761246, 1244.47407663, 1134.31688838, 1482.20604279,\n",
       "       1346.83054064, 1386.81590695, 1329.17554501, 1306.46640745,\n",
       "       1578.75634675, 1481.93428959, 1384.42263127, 1381.07708651,\n",
       "       1241.26216938, 1418.08493515, 1325.09749472, 1327.25776724,\n",
       "       1400.52916779, 1414.64656383, 1413.91145405, 1331.56972993,\n",
       "       1260.52719772, 1315.69754785, 1208.0269377 , 1251.37080183,\n",
       "       1366.78842271, 1254.78833427, 1453.3369631 , 1329.17554501,\n",
       "       1343.26140253, 1383.94434953, 1451.53054364, 1157.09991423,\n",
       "       1289.47257828, 1290.21861419, 1349.92131758, 1326.53801173,\n",
       "       1441.81225375, 1390.89223161, 1378.69063554, 1242.33487668,\n",
       "       1349.68363217, 1415.87305101, 1360.37369077, 1296.40889236,\n",
       "       1343.97551662, 1224.63333307, 1487.12145464, 1437.51002954,\n",
       "       1310.605929  , 1206.59414022, 1230.69075981, 1218.78452727,\n",
       "       1483.83946818, 1470.64153286, 1377.73673494, 1342.07085713,\n",
       "       1404.89027913, 1389.45234951, 1333.96079881, 1224.91020085,\n",
       "       1268.52350876, 1215.97571878, 1359.18613047, 1336.58770638,\n",
       "       1335.39405975, 1341.59450816, 1183.08278099, 1273.37543895,\n",
       "       1359.89866145, 1340.16498395, 1200.82120395, 1228.22118217,\n",
       "       1255.05039592, 1353.72313763, 1414.40146258, 1203.42736423,\n",
       "       1294.68029602, 1351.82247077, 1304.02338362, 1323.17463093,\n",
       "       1246.33917149, 1250.84323661, 1292.70035417, 1247.66760604,\n",
       "       1252.16124724, 1336.34902884, 1346.35485044, 1294.43306273,\n",
       "       1283.72876175, 1291.21223406, 1383.46618707, 1226.29233159,\n",
       "       1355.86098323, 1483.83946818, 1302.79953552, 1259.74784665,\n",
       "       1271.84711792, 1277.68694536, 1221.85647724, 1253.21350155,\n",
       "       1276.42168051, 1352.06007782, 1403.19230371, 1360.84872961,\n",
       "       1226.29233159, 1424.25897135, 1499.89724523, 1282.72531546,\n",
       "       1388.01377053, 1323.89600369, 1224.07915364, 1143.88714252,\n",
       "       1388.49315576, 1274.64637375, 1295.66849902, 1261.82390558,\n",
       "       1386.81590695, 1295.91536862, 1047.83873446, 1236.40880226,\n",
       "       1326.05799028, 1198.78461673, 1137.3073929 , 1159.00327524,\n",
       "       1272.10208277, 1261.30555236, 1160.26799097, 1236.95021075,\n",
       "       1352.77285612, 1351.82247077, 1226.84415858, 1188.47256255,\n",
       "       1240.4562649 , 1132.64744371, 1230.14296422, 1204.86931541,\n",
       "       1299.11823062, 1237.22071177, 1340.87983763, 1154.2306075 ,\n",
       "       1192.03274908, 1305.73414279, 1377.25992144, 1189.06774189,\n",
       "       1126.25039754, 1323.17463093, 1265.95517418, 1195.86047073,\n",
       "       1252.68761246, 1129.9642617 , 1182.78157974, 1214.84783024,\n",
       "       1328.93594446, 1270.57081034, 1150.70016579, 1254.26386024,\n",
       "       1271.84711792, 1309.87662481, 1282.97630624, 1169.0286818 ,\n",
       "       1281.46905702, 1269.29200515, 1370.83067166, 1262.08291805,\n",
       "       1301.32879791, 1154.86971898, 1377.02154792, 1162.15882148,\n",
       "       1247.93291895, 1289.72133566, 1287.23016842, 1125.57207782,\n",
       "       1224.91020085, 1304.75693714, 1157.09991423, 1213.71742074,\n",
       "       1101.5727112 , 1300.83802851, 1268.01066769, 1013.50048396,\n",
       "       1121.82426651, 1210.88025129, 1251.63440368, 1197.3247246 ,\n",
       "       1215.41208852, 1176.71769516, 1191.44119219, 1340.40328933,\n",
       "       1124.89280742, 1302.06445911, 1227.11985347, 1374.63896509,\n",
       "       1203.42736423,  990.68434144, 1078.59479253, 1274.13828818,\n",
       "       1079.34061373, 1097.63609288, 1275.66140148, 1154.2306075 ,\n",
       "       1182.17861281, 1158.68657351, 1188.77024347, 1223.52438057,\n",
       "       1221.29930737, 1050.60357479, 1313.76059454, 1247.93291895,\n",
       "       1290.96394555, 1307.92932455, 1193.50850564, 1425.25110312,\n",
       "       1312.54832836, 1173.65685206, 1300.34699367, 1305.00133076,\n",
       "       1172.42703204, 1224.91020085, 1178.24083953, 1213.15126508,\n",
       "       1224.07915364])"
      ]
     },
     "execution_count": 12,
     "metadata": {},
     "output_type": "execute_result"
    }
   ],
   "source": [
    "y_pred = model.predict(x_poly)\n",
    "y_pred\n"
   ]
  },
  {
   "cell_type": "code",
   "execution_count": 13,
   "metadata": {},
   "outputs": [
    {
     "name": "stdout",
     "output_type": "stream",
     "text": [
      "r2_score: 0.6430704841260595\n",
      "RMSE : 5147.179949312437\n"
     ]
    }
   ],
   "source": [
    "from sklearn.metrics import r2_score,mean_squared_error\n",
    "print(\"r2_score:\",r2_score(y,y_pred))\n",
    "print(\"RMSE :\",(mean_squared_error(y,y_pred)))\n"
   ]
  },
  {
   "cell_type": "code",
   "execution_count": 14,
   "metadata": {},
   "outputs": [
    {
     "data": {
      "image/png": "[encoded data removed]",
      "text/plain": [
       "<Figure size 432x288 with 1 Axes>"
      ]
     },
     "metadata": {
      "needs_background": "light"
     },
     "output_type": "display_data"
    }
   ],
   "source": [
    "plt.scatter(data[\"Head Size(cm^3)\"],data[\"Brain Weight(grams)\"])\n",
    "plt.plot(x,y_pred,c = \"r\")\n",
    "plt.show()\n"
   ]
  },
  {
   "cell_type": "code",
   "execution_count": 15,
   "metadata": {},
   "outputs": [
    {
     "data": {
      "text/plain": [
       "[0.6416304461195703,\n",
       " 0.6430704841260595,\n",
       " 0.6435112778593635,\n",
       " 0.6437052787942671,\n",
       " 0.6438594313982982,\n",
       " 0.6439528406059459,\n",
       " 0.6439714184736727,\n",
       " 0.6439060759009796,\n",
       " 0.6437475933363844,\n",
       " 0.6434804941379746,\n",
       " 0.6430781863443367,\n",
       " 0.6425008180099926,\n",
       " 0.6416961628759366]"
      ]
     },
     "execution_count": 15,
     "metadata": {},
     "output_type": "execute_result"
    }
   ],
   "source": [
    "acc = []\n",
    "for i in range(2,15):\n",
    "    poly = PolynomialFeatures(degree = i)\n",
    "    x_poly = poly.fit_transform(x)\n",
    "    model = LinearRegression()\n",
    "    model.fit(x_poly,y)\n",
    "    y_pred = model.predict(x_poly)\n",
    "    acc.append(r2_score(y,y_pred))\n",
    "acc"
   ]
  },
  {
   "cell_type": "code",
   "execution_count": 16,
   "metadata": {},
   "outputs": [
    {
     "data": {
      "image/png": "[encoded data removed]",
      "text/plain": [
       "<Figure size 432x288 with 1 Axes>"
      ]
     },
     "metadata": {
      "needs_background": "light"
     },
     "output_type": "display_data"
    }
   ],
   "source": [
    "plt.plot(np.arange(2,15),acc)\n",
    "plt.xlabel(\"Degree of Polynomial Features\")\n",
    "plt.ylabel(\"Accuracy\")\n",
    "plt.grid()\n",
    "plt.title(\"Predicting Non linear Data with Polynomial Features\")\n",
    "plt.show()\n"
   ]
  },
  {
   "cell_type": "code",
   "execution_count": null,
   "metadata": {},
   "outputs": [],
   "source": []
  }
 ],
 "metadata": {
  "kernelspec": {
   "display_name": "Python 3",
   "language": "python",
   "name": "python3"
  },
  "language_info": {
   "codemirror_mode": {
    "name": "ipython",
    "version": 3
   },
   "file_extension": ".py",
   "mimetype": "text/x-python",
   "name": "python",
   "nbconvert_exporter": "python",
   "pygments_lexer": "ipython3",
   "version": "3.7.4"
  }
 },
 "nbformat": 4,
 "nbformat_minor": 2
}

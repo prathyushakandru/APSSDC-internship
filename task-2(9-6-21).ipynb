{
 "cells": [
  {
   "cell_type": "code",
   "execution_count": 1,
   "metadata": {},
   "outputs": [
    {
     "name": "stdout",
     "output_type": "stream",
     "text": [
      "enter your rollnumAP19119012\n",
      "student belongs to CSE\n"
     ]
    }
   ],
   "source": [
    "#print student belongs to which branch \n",
    "n=input('enter your rollnum')\n",
    "if n[-3:].startswith('01'):\n",
    "    print('student belongs to CSE')\n",
    "elif n[-3:].startswith('11'):\n",
    "    print('student belongs to it')\n",
    "elif n[-3:].startswith('21'):\n",
    "    print('student belongs to ECE')\n",
    "else:\n",
    "    print('not SRM student')"
   ]
  },
  {
   "cell_type": "code",
   "execution_count": null,
   "metadata": {},
   "outputs": [],
   "source": [
    "#leap year from 1800 to 2021\n",
    "for i in range(1800, 2021):\n",
    "    if (i%4==0 and i%100!=0) or (i%400==0):\n",
    "        print(i, end='')"
   ]
  }
 ],
 "metadata": {
  "kernelspec": {
   "display_name": "Python 3",
   "language": "python",
   "name": "python3"
  },
  "language_info": {
   "codemirror_mode": {
    "name": "ipython",
    "version": 3
   },
   "file_extension": ".py",
   "mimetype": "text/x-python",
   "name": "python",
   "nbconvert_exporter": "python",
   "pygments_lexer": "ipython3",
   "version": "3.7.4"
  }
 },
 "nbformat": 4,
 "nbformat_minor": 2
}

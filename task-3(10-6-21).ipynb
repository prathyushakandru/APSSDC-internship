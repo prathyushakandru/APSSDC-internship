{
 "cells": [
  {
   "cell_type": "code",
   "execution_count": 1,
   "metadata": {},
   "outputs": [
    {
     "name": "stdout",
     "output_type": "stream",
     "text": [
      "enter the stringprathyusha\n",
      "h y\n"
     ]
    }
   ],
   "source": [
    "#enter a string and length of string even then return middale 2 charecters else string is odd print middle char\n",
    "a=input('enter the string')\n",
    "b=len(a)//2\n",
    "if len(a)%2==0:\n",
    "    print(a[b-1], a[b])\n",
    "else:\n",
    "    print(a[b])\n"
   ]
  },
  {
   "cell_type": "code",
   "execution_count": null,
   "metadata": {},
   "outputs": [],
   "source": []
  }
 ],
 "metadata": {
  "kernelspec": {
   "display_name": "Python 3",
   "language": "python",
   "name": "python3"
  },
  "language_info": {
   "codemirror_mode": {
    "name": "ipython",
    "version": 3
   },
   "file_extension": ".py",
   "mimetype": "text/x-python",
   "name": "python",
   "nbconvert_exporter": "python",
   "pygments_lexer": "ipython3",
   "version": "3.7.4"
  }
 },
 "nbformat": 4,
 "nbformat_minor": 2
}

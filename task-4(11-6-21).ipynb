{
 "cells": [
  {
   "cell_type": "code",
   "execution_count": 1,
   "metadata": {},
   "outputs": [
    {
     "name": "stdout",
     "output_type": "stream",
     "text": [
      "15\n"
     ]
    }
   ],
   "source": [
    "#Write a Python program to sum all the items in a list\n",
    "a=[1,2,3,4,5]\n",
    "print(a[0]+a[1]+a[2]+a[3]+a[4])"
   ]
  },
  {
   "cell_type": "code",
   "execution_count": 3,
   "metadata": {},
   "outputs": [
    {
     "data": {
      "text/plain": [
       "'prathyusha is a programmer'"
      ]
     },
     "execution_count": 3,
     "metadata": {},
     "output_type": "execute_result"
    }
   ],
   "source": [
    "#Write a Python program to convert a list of characters into a string\n",
    "a=['prathyusha', 'is', 'a', 'programmer']\n",
    "' '.join(a)"
   ]
  },
  {
   "cell_type": "code",
   "execution_count": 12,
   "metadata": {},
   "outputs": [
    {
     "name": "stdout",
     "output_type": "stream",
     "text": [
      "even elements in list are:  [2, 4, 6, 8]\n",
      "odd elements in list are:  [1, 3, 5, 7, 9]\n"
     ]
    }
   ],
   "source": [
    "#program to put even and odd elements in a list into two different lists\n",
    "a=[1,2,3,4,5,6,7,8,9]\n",
    "b=[]\n",
    "c=[]\n",
    "for i in a:\n",
    "    if i%2==0:\n",
    "        b.append(i)\n",
    "    else:\n",
    "        c.append(i)\n",
    "print('even elements in list are: ', b)\n",
    "print('odd elements in list are: ', c)"
   ]
  },
  {
   "cell_type": "code",
   "execution_count": 8,
   "metadata": {},
   "outputs": [
    {
     "name": "stdout",
     "output_type": "stream",
     "text": [
      "[1, 2, 4, 5, 6, 3]\n"
     ]
    }
   ],
   "source": [
    "#Write a Python program to remove duplicates from a list\n",
    "a=[1,2,4,5,6,2,3,4,5]\n",
    "b=[]\n",
    "for i in a:\n",
    "    if i not in b:\n",
    "        b.append(i)\n",
    "print(b)"
   ]
  },
  {
   "cell_type": "code",
   "execution_count": 11,
   "metadata": {},
   "outputs": [
    {
     "name": "stdout",
     "output_type": "stream",
     "text": [
      "empty\n"
     ]
    }
   ],
   "source": [
    "#Write a Python program to check a list is empty or not.\n",
    "a=[]\n",
    "if len(a)==0:\n",
    "    print('empty')\n",
    "else:\n",
    "    print('not empty')"
   ]
  },
  {
   "cell_type": "code",
   "execution_count": 1,
   "metadata": {},
   "outputs": [
    {
     "data": {
      "text/plain": [
       "[23, 3, 4, 5, 7, 9, 0, 2, 21, 27, 12, 14, 18, 4, 6, 8, 1]"
      ]
     },
     "execution_count": 1,
     "metadata": {},
     "output_type": "execute_result"
    }
   ],
   "source": [
    "#delete the 0th,4th and 5th index elemensts in the list\n",
    "li=[1,23,3,4,5,6,7,8,9,0,2,21,27,12,14,18,4,6,8,1]\n",
    "del li[0]\n",
    "del li[4]\n",
    "del li[5]\n",
    "li\n"
   ]
  },
  {
   "cell_type": "code",
   "execution_count": 2,
   "metadata": {},
   "outputs": [
    {
     "name": "stdout",
     "output_type": "stream",
     "text": [
      "Enter the list: 1234\n",
      "Enter the list: 12\n",
      "True\n"
     ]
    }
   ],
   "source": [
    "#if there is atleast one common element in both the lists then return true\n",
    "list1 = set(input(\"Enter the list: \"))\n",
    "list2 = set(input(\"Enter the list: \"))\n",
    "if len(list1.intersection(list2)) > 0:\n",
    "    print(\"True\")\n",
    "else:\n",
    "    print(\"False\")\n"
   ]
  },
  {
   "cell_type": "code",
   "execution_count": null,
   "metadata": {},
   "outputs": [],
   "source": []
  }
 ],
 "metadata": {
  "kernelspec": {
   "display_name": "Python 3",
   "language": "python",
   "name": "python3"
  },
  "language_info": {
   "codemirror_mode": {
    "name": "ipython",
    "version": 3
   },
   "file_extension": ".py",
   "mimetype": "text/x-python",
   "name": "python",
   "nbconvert_exporter": "python",
   "pygments_lexer": "ipython3",
   "version": "3.7.4"
  }
 },
 "nbformat": 4,
 "nbformat_minor": 2
}

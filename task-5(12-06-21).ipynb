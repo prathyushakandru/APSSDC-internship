{
 "cells": [
  {
   "cell_type": "code",
   "execution_count": 1,
   "metadata": {},
   "outputs": [
    {
     "name": "stdout",
     "output_type": "stream",
     "text": [
      "{1: 1, 2: 4, 3: 9, 4: 16, 5: 25, 6: 36, 7: 49, 8: 64, 9: 81, 10: 100, 11: 121, 12: 144, 13: 169, 14: 196, 15: 225}\n"
     ]
    }
   ],
   "source": [
    "#Write a Python script to print a dictionary where the keys are numbers between 1 and 15 (both included) and the values are square of keys\n",
    "x=dict()\n",
    "for i in range(1, 16):\n",
    "    x[i]=i**2\n",
    "print(x)"
   ]
  },
  {
   "cell_type": "code",
   "execution_count": 2,
   "metadata": {},
   "outputs": [
    {
     "name": "stdout",
     "output_type": "stream",
     "text": [
      "{1: 'prathyu', 2: 'john', 3: 'mosh'}\n"
     ]
    }
   ],
   "source": [
    "# Write a Python program to map two lists into a dictionary\n",
    "a=[1,2,3,4,]\n",
    "b=['prathyu','john','mosh']\n",
    "c=dict(zip(a,b))\n",
    "print(c)"
   ]
  },
  {
   "cell_type": "code",
   "execution_count": 3,
   "metadata": {},
   "outputs": [
    {
     "name": "stdout",
     "output_type": "stream",
     "text": [
      "{'n1': [1, 2, 3]}\n",
      "{'n2': [1, 2, 5]}\n",
      "{'n3': [2, 3, 4]}\n"
     ]
    }
   ],
   "source": [
    "#Write a Python program to sort a list alphabetically in a dictionary\n",
    "a={\n",
    "    'n1': [2, 3, 1],\n",
    "    'n2': [5, 1, 2],\n",
    "    'n3': [3, 2, 4]\n",
    "}\n",
    "for i,j in a.items():\n",
    "    b={i:sorted(j)}\n",
    "    print(b)"
   ]
  },
  {
   "cell_type": "code",
   "execution_count": null,
   "metadata": {},
   "outputs": [],
   "source": []
  }
 ],
 "metadata": {
  "kernelspec": {
   "display_name": "Python 3",
   "language": "python",
   "name": "python3"
  },
  "language_info": {
   "codemirror_mode": {
    "name": "ipython",
    "version": 3
   },
   "file_extension": ".py",
   "mimetype": "text/x-python",
   "name": "python",
   "nbconvert_exporter": "python",
   "pygments_lexer": "ipython3",
   "version": "3.7.4"
  }
 },
 "nbformat": 4,
 "nbformat_minor": 2
}

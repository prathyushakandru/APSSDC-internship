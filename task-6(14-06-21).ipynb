{
 "cells": [
  {
   "cell_type": "code",
   "execution_count": 1,
   "metadata": {},
   "outputs": [
    {
     "name": "stdout",
     "output_type": "stream",
     "text": [
      "5841\n",
      "1234\n",
      "8797\n"
     ]
    }
   ],
   "source": [
    "## write a pattern to display 4 digit numbers from list1\n",
    "import re\n",
    "list1 = ['5841', '98765421', '453267', '1234', '675','8797']\n",
    "for i in list1:\n",
    "    if re.findall('^[0-9]{4}$', i):\n",
    "        print(i)"
   ]
  },
  {
   "cell_type": "code",
   "execution_count": 2,
   "metadata": {},
   "outputs": [
    {
     "name": "stdout",
     "output_type": "stream",
     "text": [
      "8977596061\n",
      "9014830388\n"
     ]
    }
   ],
   "source": [
    "## validate a phone number using patterns\n",
    "import re\n",
    "a=['8977596061','9014830388','1234567890','456789']\n",
    "for i in a:\n",
    "    if re.findall('[6-9]{1}[0-9]{9}$', i):\n",
    "        print(i)"
   ]
  },
  {
   "cell_type": "code",
   "execution_count": null,
   "metadata": {},
   "outputs": [],
   "source": []
  }
 ],
 "metadata": {
  "kernelspec": {
   "display_name": "Python 3",
   "language": "python",
   "name": "python3"
  },
  "language_info": {
   "codemirror_mode": {
    "name": "ipython",
    "version": 3
   },
   "file_extension": ".py",
   "mimetype": "text/x-python",
   "name": "python",
   "nbconvert_exporter": "python",
   "pygments_lexer": "ipython3",
   "version": "3.7.4"
  }
 },
 "nbformat": 4,
 "nbformat_minor": 2
}
